{
 "cells": [
  {
   "cell_type": "code",
   "execution_count": 1,
   "metadata": {},
   "outputs": [],
   "source": [
    "import os\n",
    "import shutil\n",
    "import copy\n",
    "from sklearn.model_selection import train_test_split\n",
    "import random\n",
    "from PIL import Image\n",
    "\n",
    "des_base_dir = '/data2/CL_data/processed_images'"
   ]
  },
  {
   "cell_type": "markdown",
   "metadata": {},
   "source": [
    "## The Cancer Genome Atlas Stomach Adenocarcinoma (TCGA-STAD)  胃癌数据集\n",
    "类别信息：MSI(microsatellite instability), EBV(Epstein–Barr virus), CIN(chromosomal instability), GS(genomically stable)\n",
    "\n",
    "参考链接：https://aacrjournals.org/cancerimmunolres/article/7/5/737/466879/Tumor-Microenvironment-Characterization-in-Gastric"
   ]
  },
  {
   "cell_type": "code",
   "execution_count": 5,
   "metadata": {},
   "outputs": [
    {
     "name": "stdout",
     "output_type": "stream",
     "text": [
      "MSI : 1032\n",
      "EBV : 1008\n",
      "CIN : 1104\n",
      "GS : 987\n"
     ]
    }
   ],
   "source": [
    "# data_path='/data2/CL_data/TCGA_STAD_V2'\n",
    "# class_names = os.listdir(data_path)\n",
    "# for name in class_names:\n",
    "#     class_data_num = len(os.listdir(os.path.join(data_path, name)))\n",
    "#     print(\"{} : {}\".format(name, class_data_num))"
   ]
  },
  {
   "cell_type": "code",
   "execution_count": 9,
   "metadata": {},
   "outputs": [
    {
     "name": "stdout",
     "output_type": "stream",
     "text": [
      "MSI => max patch num: 24 , min patch num: 24, pacient num: 43\n",
      "EBV => max patch num: 84 , min patch num: 42, pacient num: 21\n",
      "CIN => max patch num: 16 , min patch num: 8, pacient num: 126\n",
      "GS => max patch num: 38 , min patch num: 8, pacient num: 49\n"
     ]
    }
   ],
   "source": [
    "# clean the save dir first\n",
    "# if os.path.exists(os.path.join(des_base_dir, 'TCGA_STD')):\n",
    "#     shutil.rmtree(os.path.join(des_base_dir, 'TCGA_STD'))\n",
    "#     print('Removed existed dir: {}'.format(os.path.join(des_base_dir, 'TCGA_STD')))\n",
    "# os.makedirs(os.path.join(des_base_dir, 'TCGA_STD'))\n",
    "\n",
    "# for name in class_names:\n",
    "#     train_save_dir = os.path.join(des_base_dir, 'TCGA_STD', 'train', name)\n",
    "#     test_save_dir = os.path.join(des_base_dir, 'TCGA_STD', 'test', name)\n",
    "#     if not os.path.exists(train_save_dir):\n",
    "#         os.makedirs(train_save_dir)\n",
    "#     if not os.path.exists(test_save_dir):\n",
    "#         os.makedirs(test_save_dir)\n",
    "    \n",
    "#     # save the processed img\n",
    "#     image_name_list = os.listdir(os.path.join(data_path, name))\n",
    "#     random.seed(0)\n",
    "#     random.shuffle(image_name_list)\n",
    "#     down_sampled_data = image_name_list[:900]\n",
    "#     x_train, x_test = train_test_split(down_sampled_data, test_size=100, random_state=0)\n",
    "#     print('{}: train-{}, test-{}'.format(name, len(x_train), len(x_test)))\n",
    "#     for img_name in x_train:\n",
    "#         img = Image.open(os.path.join(data_path, name, img_name))\n",
    "#         resized_img = img.resize((224,224))\n",
    "#         resized_img.save(os.path.join(train_save_dir, img_name))\n",
    "#     for img_name in x_test:\n",
    "#         img = Image.open(os.path.join(data_path, name, img_name))\n",
    "#         resized_img = img.resize((224,224))\n",
    "#         resized_img.save(os.path.join(test_save_dir, img_name))\n",
    "\n",
    "# class_dict = {}\n",
    "# for name in class_names:    \n",
    "#     image_name_list = os.listdir(os.path.join(data_path, name))\n",
    "#     patient_id_dict = {}\n",
    "#     for img_name in image_name_list:\n",
    "#         patient_id = img_name.split('-')[2]\n",
    "#         if patient_id not in patient_id_dict.keys():\n",
    "#             patient_id_dict[patient_id] = []\n",
    "#         patient_id_dict[patient_id].append(img_name)\n",
    "    \n",
    "#     max_patch_num = 0\n",
    "#     min_patch_num = 10000\n",
    "#     for key, value in patient_id_dict.items():\n",
    "#         if len(value) > max_patch_num:\n",
    "#             max_patch_num = len(value)\n",
    "#         if len(value) < min_patch_num:\n",
    "#             min_patch_num = len(value)\n",
    "#     print('{} => max patch num: {} , min patch num: {}, pacient num: {}'.format(name, max_patch_num, min_patch_num, len(patient_id_dict.keys())))\n",
    "#     class_dict[name] = patient_id_dict"
   ]
  },
  {
   "cell_type": "code",
   "execution_count": 11,
   "metadata": {},
   "outputs": [
    {
     "data": {
      "text/plain": [
       "dict_keys(['A4J4', '8570', '7998', '7916', '8676', '8573', '7196', 'A4YX', '8285', '5577', '5801', 'A4G2', '8366', '8381', '8589', '6455', 'A4H0', '7958', '8686', 'A4G6', '8608'])"
      ]
     },
     "execution_count": 11,
     "metadata": {},
     "output_type": "execute_result"
    }
   ],
   "source": [
    "# for name in class_names:\n",
    "#     patient_id_dict = class_dict[name]\n",
    "#     if name == 'MSI':\n",
    "#         train_patient_num, test_patient_num = 5, 19\n",
    "#     elif name == 'EBV':\n",
    "#         train_patient_num, test_patient_num = 5, 19\n",
    "#     train_patient_id_list = patient_id_dict"
   ]
  },
  {
   "cell_type": "markdown",
   "metadata": {},
   "source": [
    "## 肺癌+结肠癌\n",
    "类别信息：colon_aca(结肠腺癌), colon_n(良性结肠组织), lung_aca(肺腺癌), lung_scc(肺鳞状细胞癌), lung_n(良性肺组织)\n",
    "\n",
    "参考链接：https://aistudio.baidu.com/aistudio/datasetdetail/139090/0\n",
    "\n",
    "源数据出处：https://arxiv.org/abs/1912.12142v1"
   ]
  },
  {
   "cell_type": "code",
   "execution_count": 2,
   "metadata": {},
   "outputs": [
    {
     "name": "stdout",
     "output_type": "stream",
     "text": [
      "colon_aca : 5000\n",
      "colon_n : 5000\n",
      "lung_aca : 5000\n",
      "lung_scc : 5000\n",
      "lung_n : 5000\n"
     ]
    }
   ],
   "source": [
    "data_path='/data2/CL_data/lung_colon/jpg'\n",
    "class_dict = {'colon_aca':[], 'colon_n':[], 'lung_aca':[], 'lung_scc':[], 'lung_n':[]}\n",
    "class_names = os.listdir(data_path)\n",
    "for name in class_names:\n",
    "    if name.startswith('colon_aca'):\n",
    "        class_dict['colon_aca'].append(name)\n",
    "    elif name.startswith('colonn'):\n",
    "        class_dict['colon_n'].append(name)\n",
    "    elif name.startswith('lungaca'):\n",
    "        class_dict['lung_aca'].append(name)\n",
    "    elif name.startswith('lungscc'):\n",
    "        class_dict['lung_scc'].append(name)\n",
    "    elif name.startswith('lungn'):\n",
    "        class_dict['lung_n'].append(name)\n",
    "    else:\n",
    "        raise ValueError('Unknown class type: {}'.format(name))\n",
    "\n",
    "for key in class_dict.keys():\n",
    "    print('{} : {}'.format(key, len(class_dict[key])))"
   ]
  },
  {
   "cell_type": "code",
   "execution_count": 3,
   "metadata": {},
   "outputs": [
    {
     "name": "stdout",
     "output_type": "stream",
     "text": [
      "colon_aca: train-800, test-100\n",
      "colon_n: train-800, test-100\n",
      "lung_aca: train-800, test-100\n",
      "lung_scc: train-800, test-100\n",
      "lung_n: train-800, test-100\n"
     ]
    }
   ],
   "source": [
    "# clean the save dir first\n",
    "if os.path.exists(os.path.join(des_base_dir, 'lung')):\n",
    "    shutil.rmtree(os.path.join(des_base_dir, 'lung'))\n",
    "    print('Removed existed dir: {}'.format(os.path.join(des_base_dir, 'lung')))\n",
    "os.makedirs(os.path.join(des_base_dir, 'lung'))\n",
    "\n",
    "if os.path.exists(os.path.join(des_base_dir, 'colon')):\n",
    "    shutil.rmtree(os.path.join(des_base_dir, 'colon'))\n",
    "    print('Removed existed dir: {}'.format(os.path.join(des_base_dir, 'colon')))\n",
    "os.makedirs(os.path.join(des_base_dir, 'colon'))\n",
    "\n",
    "for key, value in class_dict.items():\n",
    "    sub_dataset_name, class_name = key.split('_')\n",
    "    train_save_dir = os.path.join(des_base_dir, sub_dataset_name, 'train', class_name)\n",
    "    if not os.path.exists(train_save_dir):\n",
    "        os.makedirs(train_save_dir)\n",
    "    test_save_dir = os.path.join(des_base_dir, sub_dataset_name, 'test', class_name)\n",
    "    if not os.path.exists(test_save_dir):\n",
    "        os.makedirs(test_save_dir)\n",
    "\n",
    "    image_name_list = copy.deepcopy(value)\n",
    "    random.seed(0)\n",
    "    random.shuffle(image_name_list)\n",
    "    down_sampled_data = image_name_list[:900]\n",
    "    x_train, x_test = train_test_split(down_sampled_data, test_size=100, random_state=0)\n",
    "    print('{}: train-{}, test-{}'.format(key, len(x_train), len(x_test)))\n",
    "    for img_name in x_train:\n",
    "        img = Image.open(os.path.join(data_path, img_name))\n",
    "        resized_img = img.resize((224,224))\n",
    "        resized_img.save(os.path.join(train_save_dir, img_name))\n",
    "    for img_name in x_test:\n",
    "        img = Image.open(os.path.join(data_path, img_name))\n",
    "        resized_img = img.resize((224,224))\n",
    "        resized_img.save(os.path.join(test_save_dir, img_name))"
   ]
  },
  {
   "cell_type": "markdown",
   "metadata": {},
   "source": [
    "## 乳腺癌 两类\n",
    "类别信息：negative, positive\n",
    "\n",
    "参考链接：https://www.kaggle.com/datasets/paultimothymooney/breast-histopathology-images"
   ]
  },
  {
   "cell_type": "code",
   "execution_count": 57,
   "metadata": {},
   "outputs": [
    {
     "name": "stdout",
     "output_type": "stream",
     "text": [
      "max patch num: 2231 , min patch num: 10\n",
      "patient num: 279\n"
     ]
    }
   ],
   "source": [
    "data_path='/data2/CL_data/breast_cancer'\n",
    "patient_id_list = os.listdir(data_path)\n",
    "patient_dict = {}\n",
    "for patient_id in patient_id_list:\n",
    "    patient_dict[patient_id] = []\n",
    "    patient_dict[patient_id].append(os.listdir(os.path.join(data_path, patient_id, '0')))\n",
    "    patient_dict[patient_id].append(os.listdir(os.path.join(data_path, patient_id, '1')))\n",
    "\n",
    "max_patch_num = 0\n",
    "min_patch_num = 100000\n",
    "for key, value in patient_dict.items():\n",
    "    patient_max_num = len(value[0]) if len(value[0]) > len(value[1]) else len(value[1])\n",
    "    patient_min_num = len(value[1]) if len(value[0]) > len(value[1]) else len(value[0])\n",
    "    if patient_max_num > max_patch_num:\n",
    "        max_patch_num = patient_max_num\n",
    "    if patient_min_num < min_patch_num:\n",
    "        min_patch_num = patient_min_num\n",
    "print('max patch num: {} , min patch num: {}'.format(max_patch_num, min_patch_num))\n",
    "print('patient num: {}'.format(len(patient_id_list)))"
   ]
  },
  {
   "cell_type": "code",
   "execution_count": 62,
   "metadata": {},
   "outputs": [
    {
     "name": "stdout",
     "output_type": "stream",
     "text": [
      "Removed existed dir: /data2/CL_data/processed_images/breast_cancer\n",
      "positive_train : 800\n",
      "negative_train : 800\n",
      "created dir: /data2/CL_data/processed_images/breast_cancer/train/positive\n",
      "created dir: /data2/CL_data/processed_images/breast_cancer/train/negative\n",
      "positive_test : 100\n",
      "negative_test : 100\n",
      "created dir: /data2/CL_data/processed_images/breast_cancer/test/positive\n",
      "created dir: /data2/CL_data/processed_images/breast_cancer/test/negative\n"
     ]
    }
   ],
   "source": [
    "# clean the save dir first\n",
    "if os.path.exists(os.path.join(des_base_dir, 'breast_cancer')):\n",
    "    shutil.rmtree(os.path.join(des_base_dir, 'breast_cancer'))\n",
    "    print('Removed existed dir: {}'.format(os.path.join(des_base_dir, 'breast_cancer')))\n",
    "os.makedirs(os.path.join(des_base_dir, 'breast_cancer'))\n",
    "\n",
    "temp_list = copy.deepcopy(patient_id_list)\n",
    "random.seed(0)\n",
    "random.shuffle(temp_list)\n",
    "train_patient_id_list = temp_list[:229]\n",
    "test_patient_id_list = temp_list[-50:]\n",
    "\n",
    "# train dataset\n",
    "pos_train_img_path = []\n",
    "neg_train_img_path = []\n",
    "for patient_id in train_patient_id_list:\n",
    "    patient_dir = os.path.join(data_path, patient_id)\n",
    "    pos_imgs = os.listdir(os.path.join(patient_dir, '1'))\n",
    "    neg_imgs = os.listdir(os.path.join(patient_dir, '0'))\n",
    "    random.seed(0)\n",
    "    random.shuffle(pos_imgs)\n",
    "    random.seed(0)\n",
    "    random.shuffle(neg_imgs)\n",
    "    pos_train_img_path.extend([os.path.join(patient_dir, '1', img_name) for img_name in pos_imgs[:4]])\n",
    "    neg_train_img_path.extend([os.path.join(patient_dir, '0', img_name) for img_name in neg_imgs[:4]])\n",
    "\n",
    "random.seed(0)\n",
    "random.shuffle(pos_train_img_path)\n",
    "pos_train_img_path = pos_train_img_path[:800]\n",
    "print('positive_train : {}'.format(len(pos_train_img_path)))\n",
    "random.seed(0)\n",
    "random.shuffle(neg_train_img_path)\n",
    "neg_train_img_path = neg_train_img_path[:800]\n",
    "print('negative_train : {}'.format(len(neg_train_img_path)))\n",
    "\n",
    "train_save_dir_pos = os.path.join(des_base_dir, 'breast_cancer', 'train', 'positive')\n",
    "if not os.path.exists(train_save_dir_pos):\n",
    "    os.makedirs(train_save_dir_pos)\n",
    "    print('created dir: {}'.format(train_save_dir_pos))\n",
    "for img_path in pos_train_img_path:\n",
    "    img = Image.open(img_path)\n",
    "    resized_img = img.resize((224,224))\n",
    "    resized_img.save(os.path.join(train_save_dir_pos, os.path.basename(img_path)))\n",
    "\n",
    "train_save_dir_neg = os.path.join(des_base_dir, 'breast_cancer', 'train', 'negative')\n",
    "if not os.path.exists(train_save_dir_neg):\n",
    "    os.makedirs(train_save_dir_neg)\n",
    "    print('created dir: {}'.format(train_save_dir_neg))\n",
    "for img_path in neg_train_img_path:\n",
    "    img = Image.open(img_path)\n",
    "    resized_img = img.resize((224,224))\n",
    "    resized_img.save(os.path.join(train_save_dir_neg, os.path.basename(img_path)))\n",
    "\n",
    "\n",
    "# test dataset\n",
    "pos_test_img_path = []\n",
    "neg_test_img_path = []\n",
    "for patient_id in test_patient_id_list:\n",
    "    patient_dir = os.path.join(data_path, patient_id)\n",
    "    pos_imgs = os.listdir(os.path.join(patient_dir, '1'))\n",
    "    neg_imgs = os.listdir(os.path.join(patient_dir, '0'))\n",
    "    random.seed(0)\n",
    "    random.shuffle(pos_imgs)\n",
    "    random.seed(0)\n",
    "    random.shuffle(neg_imgs)\n",
    "    pos_test_img_path.extend([os.path.join(patient_dir, '1', img_name) for img_name in pos_imgs[:4]])\n",
    "    neg_test_img_path.extend([os.path.join(patient_dir, '0', img_name) for img_name in neg_imgs[:4]])\n",
    "\n",
    "random.seed(0)\n",
    "random.shuffle(pos_test_img_path)\n",
    "pos_test_img_path = pos_test_img_path[:100]\n",
    "print('positive_test : {}'.format(len(pos_test_img_path)))\n",
    "random.seed(0)\n",
    "random.shuffle(neg_test_img_path)\n",
    "neg_test_img_path = neg_test_img_path[:100]\n",
    "print('negative_test : {}'.format(len(neg_test_img_path)))\n",
    "\n",
    "test_save_dir_pos = os.path.join(des_base_dir, 'breast_cancer', 'test', 'positive')\n",
    "if not os.path.exists(test_save_dir_pos):\n",
    "    os.makedirs(test_save_dir_pos)\n",
    "    print('created dir: {}'.format(test_save_dir_pos))\n",
    "for img_path in pos_test_img_path:\n",
    "    img = Image.open(img_path)\n",
    "    resized_img = img.resize((224,224))\n",
    "    resized_img.save(os.path.join(test_save_dir_pos, os.path.basename(img_path)))\n",
    "\n",
    "test_save_dir_neg = os.path.join(des_base_dir, 'breast_cancer', 'test', 'negative')\n",
    "if not os.path.exists(test_save_dir_neg):\n",
    "    os.makedirs(test_save_dir_neg)\n",
    "    print('created dir: {}'.format(test_save_dir_neg))\n",
    "for img_path in neg_test_img_path:\n",
    "    img = Image.open(img_path)\n",
    "    resized_img = img.resize((224,224))\n",
    "    resized_img.save(os.path.join(test_save_dir_neg, os.path.basename(img_path)))\n"
   ]
  }
 ],
 "metadata": {
  "interpreter": {
   "hash": "ca92b02b6b03ba919c9021d79e8c1e125ce2c413db0c3974f90d9c7259f5756a"
  },
  "kernelspec": {
   "display_name": "Python 3.8.13 ('pytorchEnv')",
   "language": "python",
   "name": "python3"
  },
  "language_info": {
   "codemirror_mode": {
    "name": "ipython",
    "version": 3
   },
   "file_extension": ".py",
   "mimetype": "text/x-python",
   "name": "python",
   "nbconvert_exporter": "python",
   "pygments_lexer": "ipython3",
   "version": "3.8.13"
  },
  "orig_nbformat": 4
 },
 "nbformat": 4,
 "nbformat_minor": 2
}
