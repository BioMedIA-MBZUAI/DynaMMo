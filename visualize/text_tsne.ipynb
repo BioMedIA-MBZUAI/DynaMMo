{
 "cells": [
  {
   "cell_type": "code",
   "execution_count": 2,
   "metadata": {},
   "outputs": [],
   "source": [
    "import numpy as np\n",
    "import matplotlib.pyplot as plt\n",
    "from sklearn import manifold\n",
    "from torchtext import vocab"
   ]
  },
  {
   "cell_type": "code",
   "execution_count": 3,
   "metadata": {},
   "outputs": [],
   "source": [
    "mammals = ['beaver', 'dolphin', 'otter', 'seal', 'whale']\n",
    "fish = ['goldfish', 'flatfish', 'ray', 'shark', 'trout']\n",
    "flowers = ['orchid', 'poppy', 'rose', 'sunflower', 'tulip']\n",
    "food_containers = ['bottle', 'bowl', 'can', 'cup', 'plate']\n",
    "fruit_and_vegetables = ['apple', 'mushroom', 'orange', 'pear', 'pepper']\n",
    "household_device = ['clock', 'keyboard', 'lamp', 'telephone', 'television']\n",
    "household_furniture = ['bed', 'chair', 'couch', 'table', 'wardrobe']\n",
    "insects = ['bee', 'beetle', 'butterfly', 'caterpillar', 'cockroach']\n",
    "large_carnivores = ['bear', 'leopard', 'lion', 'tiger', 'wolf']\n",
    "large_man_made = ['bridge', 'castle', 'house', 'road', 'skyscraper']\n",
    "large_natural_scenes = ['cloud', 'forest', 'mountain', 'plain', 'sea']\n",
    "large_omnivores = ['camel', 'cattle', 'chimpanzee', 'elephant', 'kangaroo']\n",
    "medium_sized_mammals = ['fox', 'porcupine', 'possum', 'raccoon', 'skunk']\n",
    "non_insect_invertebrates = ['crab', 'lobster', 'snail', 'spider', 'worm']\n",
    "people = ['baby', 'boy', 'girl', 'man', 'woman']\n",
    "reptiles = ['crocodile', 'dinosaur', 'lizard', 'snake', 'turtle']\n",
    "small_mammals = ['hamster', 'mouse', 'rabbit', 'shrew', 'squirrel']\n",
    "trees = ['maple', 'oak', 'palm', 'pine', 'willow']\n",
    "vehicles1 = ['bicycle', 'bus', 'motorcycle', 'truck', 'train']\n",
    "vehicles2 = ['mower', 'rocket', 'streetcar', 'tank', 'tractor']\n",
    "super_class_list = [mammals, small_mammals, medium_sized_mammals, people, large_omnivores, large_carnivores, non_insect_invertebrates, reptiles, fish, insects, \n",
    "                    flowers, trees, fruit_and_vegetables, food_containers, household_device, household_furniture, \n",
    "    vehicles1, vehicles2, large_man_made, large_natural_scenes]"
   ]
  },
  {
   "cell_type": "code",
   "execution_count": 4,
   "metadata": {},
   "outputs": [],
   "source": [
    "glove = vocab.pretrained_aliases[\"glove.840B.300d\"]()"
   ]
  },
  {
   "cell_type": "code",
   "execution_count": 5,
   "metadata": {},
   "outputs": [
    {
     "name": "stdout",
     "output_type": "stream",
     "text": [
      "Super class group 0:\n",
      "class 1: 0-beaver\n",
      "class 2: 0-dolphin\n",
      "class 3: 0-otter\n",
      "class 4: 0-seal\n",
      "class 5: 0-whale\n",
      "Super class group 1:\n",
      "class 6: 1-hamster\n",
      "class 7: 1-mouse\n",
      "class 8: 1-rabbit\n",
      "class 9: 1-shrew\n",
      "class 10: 1-squirrel\n",
      "Super class group 2:\n",
      "class 11: 2-fox\n",
      "class 12: 2-porcupine\n",
      "class 13: 2-possum\n",
      "class 14: 2-raccoon\n",
      "class 15: 2-skunk\n",
      "Super class group 3:\n",
      "class 16: 3-baby\n",
      "class 17: 3-boy\n",
      "class 18: 3-girl\n",
      "class 19: 3-man\n",
      "class 20: 3-woman\n",
      "Super class group 4:\n",
      "class 21: 4-camel\n",
      "class 22: 4-cattle\n",
      "class 23: 4-chimpanzee\n",
      "class 24: 4-elephant\n",
      "class 25: 4-kangaroo\n",
      "Super class group 5:\n",
      "class 26: 5-bear\n",
      "class 27: 5-leopard\n",
      "class 28: 5-lion\n",
      "class 29: 5-tiger\n",
      "class 30: 5-wolf\n",
      "Super class group 6:\n",
      "class 31: 6-crab\n",
      "class 32: 6-lobster\n",
      "class 33: 6-snail\n",
      "class 34: 6-spider\n",
      "class 35: 6-worm\n",
      "Super class group 7:\n",
      "class 36: 7-crocodile\n",
      "class 37: 7-dinosaur\n",
      "class 38: 7-lizard\n",
      "class 39: 7-snake\n",
      "class 40: 7-turtle\n",
      "Super class group 8:\n",
      "class 41: 8-goldfish\n",
      "class 42: 8-flatfish\n",
      "class 43: 8-ray\n",
      "class 44: 8-shark\n",
      "class 45: 8-trout\n",
      "Super class group 9:\n",
      "class 46: 9-bee\n",
      "class 47: 9-beetle\n",
      "class 48: 9-butterfly\n",
      "class 49: 9-caterpillar\n",
      "class 50: 9-cockroach\n",
      "Super class group 10:\n",
      "class 51: 10-orchid\n",
      "class 52: 10-poppy\n",
      "class 53: 10-rose\n",
      "class 54: 10-sunflower\n",
      "class 55: 10-tulip\n",
      "Super class group 11:\n",
      "class 56: 11-maple\n",
      "class 57: 11-oak\n",
      "class 58: 11-palm\n",
      "class 59: 11-pine\n",
      "class 60: 11-willow\n",
      "Super class group 12:\n",
      "class 61: 12-apple\n",
      "class 62: 12-mushroom\n",
      "class 63: 12-orange\n",
      "class 64: 12-pear\n",
      "class 65: 12-pepper\n",
      "Super class group 13:\n",
      "class 66: 13-bottle\n",
      "class 67: 13-bowl\n",
      "class 68: 13-can\n",
      "class 69: 13-cup\n",
      "class 70: 13-plate\n",
      "Super class group 14:\n",
      "class 71: 14-clock\n",
      "class 72: 14-keyboard\n",
      "class 73: 14-lamp\n",
      "class 74: 14-telephone\n",
      "class 75: 14-television\n",
      "Super class group 15:\n",
      "class 76: 15-bed\n",
      "class 77: 15-chair\n",
      "class 78: 15-couch\n",
      "class 79: 15-table\n",
      "class 80: 15-wardrobe\n",
      "Super class group 16:\n",
      "class 81: 16-bicycle\n",
      "class 82: 16-bus\n",
      "class 83: 16-motorcycle\n",
      "class 84: 16-truck\n",
      "class 85: 16-train\n",
      "Super class group 17:\n",
      "class 86: 17-mower\n",
      "class 87: 17-rocket\n",
      "class 88: 17-streetcar\n",
      "class 89: 17-tank\n",
      "class 90: 17-tractor\n",
      "Super class group 18:\n",
      "class 91: 18-bridge\n",
      "class 92: 18-castle\n",
      "class 93: 18-house\n",
      "class 94: 18-road\n",
      "class 95: 18-skyscraper\n",
      "Super class group 19:\n",
      "class 96: 19-cloud\n",
      "class 97: 19-forest\n",
      "class 98: 19-mountain\n",
      "class 99: 19-plain\n",
      "class 100: 19-sea\n"
     ]
    }
   ],
   "source": [
    "class_vectors = []\n",
    "super_target = []\n",
    "class_id = 0\n",
    "for super_class_id, super_class in enumerate(super_class_list):\n",
    "    print('Super class group {}:'.format(super_class_id))\n",
    "    for class_name in super_class:\n",
    "        class_id += 1\n",
    "        print('class {}: {}-{}'.format(class_id, super_class_id, class_name))\n",
    "        class_vectors.append(glove.vectors[glove.stoi[class_name]])\n",
    "        super_target.append(super_class_id)\n",
    "class_vectors = np.stack(class_vectors)"
   ]
  },
  {
   "cell_type": "code",
   "execution_count": 13,
   "metadata": {},
   "outputs": [
    {
     "data": {
      "text/plain": [
       "[0,\n",
       " 0,\n",
       " 0,\n",
       " 0,\n",
       " 0,\n",
       " 1,\n",
       " 1,\n",
       " 1,\n",
       " 1,\n",
       " 1,\n",
       " 2,\n",
       " 2,\n",
       " 2,\n",
       " 2,\n",
       " 2,\n",
       " 3,\n",
       " 3,\n",
       " 3,\n",
       " 3,\n",
       " 3,\n",
       " 4,\n",
       " 4,\n",
       " 4,\n",
       " 4,\n",
       " 4,\n",
       " 5,\n",
       " 5,\n",
       " 5,\n",
       " 5,\n",
       " 5,\n",
       " 6,\n",
       " 6,\n",
       " 6,\n",
       " 6,\n",
       " 6,\n",
       " 7,\n",
       " 7,\n",
       " 7,\n",
       " 7,\n",
       " 7,\n",
       " 8,\n",
       " 8,\n",
       " 8,\n",
       " 8,\n",
       " 8,\n",
       " 9,\n",
       " 9,\n",
       " 9,\n",
       " 9,\n",
       " 9,\n",
       " 10,\n",
       " 10,\n",
       " 10,\n",
       " 10,\n",
       " 10,\n",
       " 11,\n",
       " 11,\n",
       " 11,\n",
       " 11,\n",
       " 11,\n",
       " 12,\n",
       " 12,\n",
       " 12,\n",
       " 12,\n",
       " 12,\n",
       " 13,\n",
       " 13,\n",
       " 13,\n",
       " 13,\n",
       " 13,\n",
       " 14,\n",
       " 14,\n",
       " 14,\n",
       " 14,\n",
       " 14,\n",
       " 15,\n",
       " 15,\n",
       " 15,\n",
       " 15,\n",
       " 15,\n",
       " 16,\n",
       " 16,\n",
       " 16,\n",
       " 16,\n",
       " 16,\n",
       " 17,\n",
       " 17,\n",
       " 17,\n",
       " 17,\n",
       " 17,\n",
       " 18,\n",
       " 18,\n",
       " 18,\n",
       " 18,\n",
       " 18,\n",
       " 19,\n",
       " 19,\n",
       " 19,\n",
       " 19,\n",
       " 19]"
      ]
     },
     "execution_count": 13,
     "metadata": {},
     "output_type": "execute_result"
    }
   ],
   "source": [
    "super_target"
   ]
  },
  {
   "cell_type": "code",
   "execution_count": 33,
   "metadata": {},
   "outputs": [
    {
     "name": "stderr",
     "output_type": "stream",
     "text": [
      "/home/2021/yujun/Storage/anaconda3/envs/pytorchEnv/lib/python3.8/site-packages/sklearn/manifold/_t_sne.py:805: FutureWarning: The default learning rate in TSNE will change from 200.0 to 'auto' in 1.2.\n",
      "  warnings.warn(\n",
      "/home/2021/yujun/Storage/anaconda3/envs/pytorchEnv/lib/python3.8/site-packages/sklearn/manifold/_t_sne.py:991: FutureWarning: The PCA initialization in TSNE will change to have the standard deviation of PC1 equal to 1e-4 in 1.2. This will ensure better convergence.\n",
      "  warnings.warn(\n"
     ]
    }
   ],
   "source": [
    "tsne = manifold.TSNE(n_components=2, init='pca', random_state=501)\n",
    "X_tsne = tsne.fit_transform(class_vectors)"
   ]
  },
  {
   "cell_type": "code",
   "execution_count": 34,
   "metadata": {},
   "outputs": [
    {
     "data": {
      "image/png": "[encoded data removed]",
      "text/plain": [
       "<Figure size 640x480 with 1 Axes>"
      ]
     },
     "metadata": {},
     "output_type": "display_data"
    }
   ],
   "source": [
    "x_min, x_max = X_tsne.min(0), X_tsne.max(0)\n",
    "X_norm = (X_tsne - x_min) / (x_max - x_min)  # 归一化\n",
    "fig = plt.figure()\n",
    "# plt.scatter(X_norm[:, 0], X_norm[:, 1], c=super_target, cmap=plt.cm.Spectral)\n",
    "class_num = len(np.unique(super_target))\n",
    "for i in range(X_norm.shape[0]):\n",
    "    plt.text(X_norm[i, 0], X_norm[i, 1], str(super_target[i]), color=plt.cm.Set1(super_target[i] / class_num),\n",
    "\t\t\t\t fontdict={'weight': 'bold', 'size': 7})\n",
    "plt.xticks()\n",
    "plt.yticks()\n",
    "plt.show()"
   ]
  },
  {
   "cell_type": "code",
   "execution_count": 23,
   "metadata": {},
   "outputs": [
    {
     "name": "stderr",
     "output_type": "stream",
     "text": [
      "/home/2021/yujun/Storage/anaconda3/envs/pytorchEnv/lib/python3.8/site-packages/sklearn/manifold/_t_sne.py:805: FutureWarning: The default learning rate in TSNE will change from 200.0 to 'auto' in 1.2.\n",
      "  warnings.warn(\n"
     ]
    }
   ],
   "source": [
    "tsne = manifold.TSNE(n_components=2, init='random', random_state=501)\n",
    "X_tsne = tsne.fit_transform(class_vectors)"
   ]
  },
  {
   "cell_type": "code",
   "execution_count": 32,
   "metadata": {},
   "outputs": [
    {
     "data": {
      "image/png": "[encoded data removed]",
      "text/plain": [
       "<Figure size 640x480 with 1 Axes>"
      ]
     },
     "metadata": {},
     "output_type": "display_data"
    }
   ],
   "source": [
    "x_min, x_max = X_tsne.min(0), X_tsne.max(0)\n",
    "X_norm = (X_tsne - x_min) / (x_max - x_min)  # 归一化\n",
    "fig = plt.figure()\n",
    "# plt.scatter(X_norm[:, 0], X_norm[:, 1], c=super_target, cmap=plt.cm.Spectral)\n",
    "class_num = len(np.unique(super_target))\n",
    "for i in range(X_norm.shape[0]):\n",
    "    plt.text(X_norm[i, 0], X_norm[i, 1], str(super_target[i]), color=plt.cm.Set1(super_target[i] / class_num),\n",
    "\t\t\t\t fontdict={'weight': 'bold', 'size': 7})\n",
    "plt.xticks()\n",
    "plt.yticks()\n",
    "plt.show()"
   ]
  }
 ],
 "metadata": {
  "kernelspec": {
   "display_name": "pytorchEnv",
   "language": "python",
   "name": "python3"
  },
  "language_info": {
   "codemirror_mode": {
    "name": "ipython",
    "version": 3
   },
   "file_extension": ".py",
   "mimetype": "text/x-python",
   "name": "python",
   "nbconvert_exporter": "python",
   "pygments_lexer": "ipython3",
   "version": "3.8.13"
  },
  "orig_nbformat": 4
 },
 "nbformat": 4,
 "nbformat_minor": 2
}
